{
 "cells": [
  {
   "cell_type": "markdown",
   "id": "dc8b27df-3b50-40e3-a38b-5f5cd3950c28",
   "metadata": {
    "tags": []
   },
   "source": [
    "# Data Science Tools and Ecosystem"
   ]
  },
  {
   "cell_type": "markdown",
   "id": "bb6331d3-48fc-4cf3-888a-f3a6921d0853",
   "metadata": {},
   "source": [
    "In this notebook, Data Science Tools and Ecosystem are summarized."
   ]
  },
  {
   "cell_type": "markdown",
   "id": "81e42f7f-7125-45f0-82a9-add47b4ba6b2",
   "metadata": {},
   "source": [
    "**Objectives:**\n",
    "- List popular languages for Data Science\n",
    "- List commonly used libraries used by Data Scientists\n",
    "- Table of Data Science Tools\n",
    "- Arithmetic expressions evaluation in Python"
   ]
  },
  {
   "cell_type": "markdown",
   "id": "d0ba7e83-4a5a-49c5-abbd-c791bbccf09e",
   "metadata": {},
   "source": [
    "Some of the popular languages that Data Scientists use are:\n",
    "1. Python\n",
    "2. R\n",
    "3. Julia"
   ]
  },
  {
   "cell_type": "markdown",
   "id": "94eeef87-d55d-4bcf-af8f-3fb91062440e",
   "metadata": {},
   "source": [
    "Some of the commonly used libraries used by Data Scientists include:\n",
    "1. Pandas\n",
    "2. NumPy\n",
    "3. Matplotlib "
   ]
  },
  {
   "cell_type": "markdown",
   "id": "73bc90ab-9853-40d6-9ff2-9b0695061638",
   "metadata": {},
   "source": [
    "| Data Science Tools |\n",
    "|:------------------:|\n",
    "| Jupyter Notebooks  |\n",
    "| RStudio            |\n",
    "| Visual Studio Code |"
   ]
  },
  {
   "cell_type": "markdown",
   "id": "57a1ca6a-ea29-44e8-a737-978e5672d370",
   "metadata": {},
   "source": [
    "### Below are a few examples of evaluating arithmetic expressions in Python\n",
    "res=3+4\n",
    "\n",
    "print(res) "
   ]
  },
  {
   "cell_type": "code",
   "execution_count": 3,
   "id": "43774388-0f82-4bbb-9642-eafcd156f18d",
   "metadata": {
    "tags": []
   },
   "outputs": [
    {
     "data": {
      "text/plain": [
       "17"
      ]
     },
     "execution_count": 3,
     "metadata": {},
     "output_type": "execute_result"
    }
   ],
   "source": [
    "#This a simple arithmetic expression to mutiply then add integers\n",
    "(3*4)+5"
   ]
  },
  {
   "cell_type": "code",
   "execution_count": 4,
   "id": "9f7ba0f4-4522-4131-845d-ea1ef6122d54",
   "metadata": {
    "tags": []
   },
   "outputs": [
    {
     "data": {
      "text/plain": [
       "3.3333333333333335"
      ]
     },
     "execution_count": 4,
     "metadata": {},
     "output_type": "execute_result"
    }
   ],
   "source": [
    "#This will convert 200 minutes to hours by diving by 60\n",
    "200/60"
   ]
  },
  {
   "cell_type": "markdown",
   "id": "ad3ea409-580e-4d74-9f9a-fa1ca214643c",
   "metadata": {},
   "source": [
    "## Author\n",
    "Shreya Victor Durai\n"
   ]
  }
 ],
 "metadata": {
  "kernelspec": {
   "display_name": "Python",
   "language": "python",
   "name": "conda-env-python-py"
  },
  "language_info": {
   "codemirror_mode": {
    "name": "ipython",
    "version": 3
   },
   "file_extension": ".py",
   "mimetype": "text/x-python",
   "name": "python",
   "nbconvert_exporter": "python",
   "pygments_lexer": "ipython3",
   "version": "3.7.12"
  }
 },
 "nbformat": 4,
 "nbformat_minor": 5
}
